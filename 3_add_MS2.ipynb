{
 "cells": [
  {
   "cell_type": "markdown",
   "id": "5f914495",
   "metadata": {},
   "source": [
    "# Intégration des données MS2 de MassBank"
   ]
  },
  {
   "cell_type": "markdown",
   "id": "51527a0b",
   "metadata": {},
   "source": [
    "# Introduction\n",
    "Ce notebook permet d'enrichir la base de données avec les spectres MS2 issus de MassBank, en se concentrant sur les données acquises en ESI-QTOF et LC-ESI-QTOF."
   ]
  },
  {
   "cell_type": "markdown",
   "id": "f732af06",
   "metadata": {},
   "source": [
    "#  Import des bibliothèques et définition des fonctions"
   ]
  },
  {
   "cell_type": "code",
   "execution_count": null,
   "id": "baaba00c",
   "metadata": {},
   "outputs": [],
   "source": [
    "import pandas as pd\n",
    "from rdkit import Chem\n",
    "\n",
    "def read_msp(file_path):\n",
    "    records = []\n",
    "    current_record = {}\n",
    "    \n",
    "    with open(file_path, 'r') as file:\n",
    "        for line in file:\n",
    "            line = line.strip()\n",
    "            if line == \"\":\n",
    "                if current_record:\n",
    "                    records.append(current_record)\n",
    "                    current_record = {}\n",
    "            else:\n",
    "                if ':' in line:\n",
    "                    key, value = line.split(':', 1)\n",
    "                    key = key.strip()\n",
    "                    value = value.strip()\n",
    "                    if key == 'Num Peaks':\n",
    "                        continue\n",
    "                    current_record[key] = value\n",
    "                else:\n",
    "                    if 'peaks' not in current_record:\n",
    "                        current_record['peaks'] = []\n",
    "                    parts = line.split()\n",
    "                    if len(parts) == 2:\n",
    "                        current_record['peaks'].append((float(parts[0]), float(parts[1])))\n",
    "    \n",
    "    if current_record:\n",
    "        records.append(current_record)\n",
    "    return records\n",
    "\n",
    "def standardize_smiles(smiles):\n",
    "    try:\n",
    "        mol = Chem.MolFromSmiles(smiles)\n",
    "        if mol is not None:\n",
    "            return Chem.MolToSmiles(mol, isomericSmiles=True)\n",
    "        else:\n",
    "            return None\n",
    "    except:\n",
    "        return None"
   ]
  },
  {
   "cell_type": "markdown",
   "id": "1556c62b",
   "metadata": {},
   "source": [
    "# Chargement et préparation des données MS2\n"
   ]
  },
  {
   "cell_type": "code",
   "execution_count": null,
   "id": "b9960aea",
   "metadata": {},
   "outputs": [],
   "source": [
    "# Lecture du fichier MSP\n",
    "file_path = 'MassBank_NIST.msp'\n",
    "msp_data = read_msp(file_path)\n",
    "msp_df = pd.DataFrame(msp_data)\n",
    "\n",
    "# Filtrage des spectres MS2 et types d'instruments\n",
    "msp_df = msp_df[msp_df['Spectrum_type'] == 'MS2']\n",
    "msp_df = msp_df[msp_df['Instrument_type'].isin(['ESI-QTOF', 'LC-ESI-QTOF'])]\n",
    "\n",
    "print(f\"Nombre de composés uniques : {len(msp_df['Name'].unique())}\")"
   ]
  },
  {
   "cell_type": "markdown",
   "id": "5a6944b9",
   "metadata": {},
   "source": [
    "# Préparation des données spectrales"
   ]
  },
  {
   "cell_type": "code",
   "execution_count": null,
   "id": "f5ca58fc",
   "metadata": {},
   "outputs": [],
   "source": [
    "# Séparation des pics MS2\n",
    "msp_df['peaks_ms2_mz'] = msp_df['peaks'].apply(lambda x: [mz for mz, intensity in x])\n",
    "msp_df['peaks_ms2_intensities'] = msp_df['peaks'].apply(lambda x: [intensity for mz, intensity in x])\n",
    "\n",
    "# Standardisation des SMILES\n",
    "msp_df[\"SMILES\"] = msp_df['SMILES'].apply(standardize_smiles)\n",
    "\n",
    "# Sélection des colonnes pertinentes\n",
    "msp_df_filtered = msp_df[['SMILES', 'Precursor_type', 'peaks_ms2_mz', \n",
    "                         'peaks_ms2_intensities', 'Instrument_type', \n",
    "                         'Ion_mode', 'Collision_energy']]"
   ]
  },
  {
   "cell_type": "markdown",
   "id": "a86647f1",
   "metadata": {},
   "source": [
    "# Chargement de la base existante"
   ]
  },
  {
   "cell_type": "code",
   "execution_count": null,
   "id": "c52d3e5c",
   "metadata": {},
   "outputs": [],
   "source": [
    "# Chargement de la base Norman avec CCS et RT\n",
    "with pd.HDFStore(\"norman_all_ccs_all_rt_pos_neg.h5\") as store:\n",
    "    norman_pos = store['positive']\n",
    "    norman_neg = store['negative']\n",
    "    norman_combined = pd.concat([norman_pos, norman_neg])"
   ]
  },
  {
   "cell_type": "markdown",
   "id": "5af1eea6",
   "metadata": {},
   "source": [
    "# Fusion des données"
   ]
  },
  {
   "cell_type": "code",
   "execution_count": null,
   "id": "58dca025",
   "metadata": {},
   "outputs": [],
   "source": [
    "# # Fusion avec les données MS2\n",
    "norman_combined = pd.merge(\n",
    "    norman_combined, \n",
    "    msp_df_filtered, \n",
    "    left_on=['SMILES', 'adduct'], \n",
    "    right_on=['SMILES', 'Precursor_type'], \n",
    "    how='left'\n",
    ")\n",
    "\n",
    "norman_combined.drop(columns=['Precursor_type'], inplace=True)"
   ]
  },
  {
   "cell_type": "markdown",
   "id": "91926ab4",
   "metadata": {},
   "source": [
    "# Nettoyage"
   ]
  },
  {
   "cell_type": "code",
   "execution_count": null,
   "id": "d7e207b5",
   "metadata": {},
   "outputs": [],
   "source": [
    "# Liste des colonnes à supprimer\n",
    "columns_to_drop = [\n",
    "    'Norman_SusDat_ID', 'Name_Dashboard', 'Name_ChemSpider', 'Name_IUPAC',\n",
    "    'Synonyms_ChemSpider', 'Reliability_of_Synonyms_ChemSpider', 'CAS_RN',\n",
    "    'CAS_RN_Dashboard', 'CAS_RN_PubChem', 'CAS_RN_Cactus', 'CAS_RN_ChemSpider',\n",
    "    'Reliability_of_CAS_ChemSpider', 'Validation_Level', 'SMILES_Dashboard',\n",
    "    'StdInChI', 'StdInChIKey', 'MS_Ready_SMILES', 'MS_Ready_StdInChI',\n",
    "    'MS_Ready_StdInChIKey', 'PubChem_CID', 'ChemSpiderID', 'DTXSID',\n",
    "    'Pred_RTI_Positive_ESI', 'Uncertainty_RTI_pos', 'Pred_RTI_Negative_ESI',\n",
    "    'Uncertainty_RTI_neg', 'logKow_EPISuite', 'Exp_logKow_EPISuite',\n",
    "    'ChemSpider_ID_based_on_InChIKey', 'alogp_ChemSpider', 'xlogp_ChemSpider',\n",
    "    'Species', 'Uncertainty', 'ExposureScore_Water_KEMI', 'HazScore_EcoChronic_KEMI',\n",
    "    'ValidationLevel_KEMI', 'Prob. of GC', 'Prob. RPLC', 'Pred. Chromatography',\n",
    "    'Prob. of both Ionization Source', 'Prob. EI', 'Prob. ESI',\n",
    "    'Pred. Ionization source', 'Prob. both ESI mode', 'Prob. +ESI', 'Prob. -ESI',\n",
    "    'Pred. ESI mode', 'Preferable Platform by decision Tree', 'Synonyms',\n",
    "    'Koc_min_experimental (L/kg)', 'Koc_max_experimental (L/kg)',\n",
    "    'Koc_min_predicted (L/kg)', 'Koc_max_predicted (L/kg)','Source'\n",
    "]\n",
    "# Suppression des colonnes non nécessaires\n",
    "norman_final = norman_combined.drop(columns=columns_to_drop, errors='ignore')\n",
    "\n",
    "print(\"Colonnes conservées :\")\n",
    "print(norman_final.columns.tolist())"
   ]
  },
  {
   "cell_type": "markdown",
   "id": "e019c140",
   "metadata": {},
   "source": [
    "# Sauvegarde"
   ]
  },
  {
   "cell_type": "code",
   "execution_count": null,
   "id": "d3c6e724",
   "metadata": {},
   "outputs": [],
   "source": [
    "# Séparation par mode d'ionisation\n",
    "norman_positive = norman_final[norman_final['adduct'].str.endswith('+')]\n",
    "norman_negative = norman_final[norman_final['adduct'].str.endswith('-')]\n",
    "\n",
    "# Sauvegarde finale\n",
    "norman_positive.to_hdf(\"norman_all_ccs_all_rt_pos_neg_with_ms2.h5\", key=\"positive\")\n",
    "norman_negative.to_hdf(\"norman_all_ccs_all_rt_pos_neg_with_ms2.h5\", key=\"negative\")"
   ]
  }
 ],
 "metadata": {
  "kernelspec": {
   "display_name": "Python 3 (ipykernel)",
   "language": "python",
   "name": "python3"
  },
  "language_info": {
   "codemirror_mode": {
    "name": "ipython",
    "version": 3
   },
   "file_extension": ".py",
   "mimetype": "text/x-python",
   "name": "python",
   "nbconvert_exporter": "python",
   "pygments_lexer": "ipython3",
   "version": "3.10.8"
  },
  "toc": {
   "base_numbering": 1,
   "nav_menu": {},
   "number_sections": true,
   "sideBar": true,
   "skip_h1_title": false,
   "title_cell": "Table of Contents",
   "title_sidebar": "Contents",
   "toc_cell": false,
   "toc_position": {},
   "toc_section_display": true,
   "toc_window_display": false
  }
 },
 "nbformat": 4,
 "nbformat_minor": 5
}
