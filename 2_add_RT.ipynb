{
 "cells": [
  {
   "cell_type": "markdown",
   "id": "29a11658",
   "metadata": {},
   "source": [
    "# Ajout des temps de rétention prédits à la base de données NORMAN-CCSbase"
   ]
  },
  {
   "cell_type": "markdown",
   "id": "a482d51c",
   "metadata": {},
   "source": [
    "# Introduction\n",
    "Ce notebook permet d'enrichir la base de données précédemment créée avec les temps de rétention (RT) prédits grâce au modèle QSRR disponible sur https://github.com/narvall018/QSRR-Retention-Time-Prediction."
   ]
  },
  {
   "cell_type": "markdown",
   "id": "3ff8a477",
   "metadata": {},
   "source": [
    "# Import des bibliothèques et du modèle"
   ]
  },
  {
   "cell_type": "code",
   "execution_count": null,
   "id": "875f38e7",
   "metadata": {},
   "outputs": [],
   "source": [
    "import pandas as pd\n",
    "from QSRR_predictor import RTPredictor"
   ]
  },
  {
   "cell_type": "markdown",
   "id": "39b41fa2",
   "metadata": {},
   "source": [
    "# Chargement de la base de données existante"
   ]
  },
  {
   "cell_type": "code",
   "execution_count": null,
   "id": "8ae5bbc1",
   "metadata": {},
   "outputs": [],
   "source": [
    "# Ouverture du fichier HDF5\n",
    "with pd.HDFStore(\"norman_all_ccs_pos_neg.h5\") as store:\n",
    "    keys = store.keys()\n",
    "    print(f\"Clés disponibles dans le fichier : {keys}\")\n",
    "    \n",
    "    dfs = [store[key] for key in keys]\n",
    "    df = pd.concat(dfs, ignore_index=True)\n"
   ]
  },
  {
   "cell_type": "markdown",
   "id": "bce50111",
   "metadata": {},
   "source": [
    "# Préparation des structures pour la prédiction"
   ]
  },
  {
   "cell_type": "code",
   "execution_count": null,
   "id": "39669512",
   "metadata": {},
   "outputs": [],
   "source": [
    "# Extraction des SMILES uniques\n",
    "smiles_uniques = df['SMILES'].unique()\n"
   ]
  },
  {
   "cell_type": "markdown",
   "id": "955a8e01",
   "metadata": {},
   "source": [
    "# Prédiction des temps de rétention\n"
   ]
  },
  {
   "cell_type": "code",
   "execution_count": null,
   "id": "ec87c599",
   "metadata": {},
   "outputs": [],
   "source": [
    "# Initialisation et prédiction\n",
    "predictor = RTPredictor()\n",
    "results = predictor.predict(smiles_uniques)\n"
   ]
  },
  {
   "cell_type": "markdown",
   "id": "b75b22a4",
   "metadata": {},
   "source": [
    "# Intégration des prédictions"
   ]
  },
  {
   "cell_type": "code",
   "execution_count": null,
   "id": "9d28707c",
   "metadata": {},
   "outputs": [],
   "source": [
    "# Fusion des données\n",
    "merged_df = pd.merge(df, \n",
    "                    results[['Original_SMILES', 'Predicted_RT']], \n",
    "                    left_on='SMILES', \n",
    "                    right_on='Original_SMILES', \n",
    "                    how='left')\n",
    "\n",
    "# Nettoyage\n",
    "merged_df.drop(columns=['Original_SMILES'], inplace=True)\n",
    "\n"
   ]
  },
  {
   "cell_type": "markdown",
   "id": "c5cd9b63",
   "metadata": {},
   "source": [
    "# Finalisation et sauvegarde"
   ]
  },
  {
   "cell_type": "code",
   "execution_count": null,
   "id": "a59bf326",
   "metadata": {},
   "outputs": [],
   "source": [
    "# Nettoyage final\n",
    "final_df = merged_df.dropna(subset=['adduct'])\n",
    "\n",
    "# Séparation des modes d'ionisation\n",
    "final_positive = final_df[final_df['adduct'].str.endswith('+')]\n",
    "final_negative = final_df[final_df['adduct'].str.endswith('-')]\n",
    "\n",
    "print(f\"Mode positif : {len(final_positive)} composés\")\n",
    "print(f\"Mode négatif : {len(final_negative)} composés\")\n",
    "\n",
    "# Sauvegarde\n",
    "final_positive.to_hdf(\"norman_all_ccs_all_rt_pos_neg.h5\", key=\"positive\")\n",
    "final_negative.to_hdf(\"norman_all_ccs_all_rt_pos_neg.h5\", key=\"negative\")"
   ]
  }
 ],
 "metadata": {
  "kernelspec": {
   "display_name": "Python 3 (ipykernel)",
   "language": "python",
   "name": "python3"
  },
  "language_info": {
   "codemirror_mode": {
    "name": "ipython",
    "version": 3
   },
   "file_extension": ".py",
   "mimetype": "text/x-python",
   "name": "python",
   "nbconvert_exporter": "python",
   "pygments_lexer": "ipython3",
   "version": "3.10.8"
  },
  "toc": {
   "base_numbering": 1,
   "nav_menu": {},
   "number_sections": true,
   "sideBar": true,
   "skip_h1_title": false,
   "title_cell": "Table of Contents",
   "title_sidebar": "Contents",
   "toc_cell": false,
   "toc_position": {},
   "toc_section_display": true,
   "toc_window_display": false
  }
 },
 "nbformat": 4,
 "nbformat_minor": 5
}
