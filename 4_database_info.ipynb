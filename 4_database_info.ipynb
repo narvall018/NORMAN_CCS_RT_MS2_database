{
 "cells": [
  {
   "cell_type": "code",
   "execution_count": 6,
   "id": "b0ce6c5c",
   "metadata": {},
   "outputs": [],
   "source": [
    "import pandas as pd\n",
    "from pathlib import Path\n",
    "import numpy as np\n",
    "from tqdm.notebook import tqdm\n",
    "import tables\n",
    "from concurrent.futures import ThreadPoolExecutor\n",
    "import warnings\n",
    "import rdkit.RDLogger as rdlog\n",
    "rdlog.DisableLog('rdApp.*')  # Désactive les logs RDKit\n",
    "from rdkit import Chem\n",
    "import warnings\n",
    "import rdkit.RDLogger as rdlog\n",
    "from concurrent.futures import ThreadPoolExecutor, as_completed\n",
    "from pathlib import Path\n",
    "import pandas as pd\n",
    "from tqdm.notebook import tqdm\n",
    "\n",
    "# Désactiver les avertissements RDKit et pandas\n",
    "rdlog.DisableLog('rdApp.*')\n",
    "warnings.filterwarnings('ignore')"
   ]
  },
  {
   "cell_type": "code",
   "execution_count": 2,
   "id": "8cef0166",
   "metadata": {},
   "outputs": [],
   "source": [
    "def canonicalize_smiles(smiles):\n",
    "    \"\"\"Canonicalise un SMILES en utilisant RDKit\"\"\"\n",
    "    try:\n",
    "        if pd.isna(smiles):\n",
    "            return None\n",
    "        mol = Chem.MolFromSmiles(smiles)\n",
    "        if mol is None:\n",
    "            return None\n",
    "        return Chem.MolToSmiles(mol, canonical=True)\n",
    "    except:\n",
    "        return None"
   ]
  },
  {
   "cell_type": "code",
   "execution_count": 9,
   "id": "875dc7e9",
   "metadata": {
    "scrolled": false
   },
   "outputs": [
    {
     "name": "stdout",
     "output_type": "stream",
     "text": [
      "Processing reference files...\n"
     ]
    },
    {
     "data": {
      "application/vnd.jupyter.widget-view+json": {
       "model_id": "e65506755eaa4b1299fa0e5cd8367aa4",
       "version_major": 2,
       "version_minor": 0
      },
      "text/plain": [
       "Overall progress:   0%|          | 0/17 [00:00<?, ?it/s]"
      ]
     },
     "metadata": {},
     "output_type": "display_data"
    },
    {
     "name": "stdout",
     "output_type": "stream",
     "text": [
      "\n",
      "Loading BIOCID from data/input/databases/biocides.csv\n"
     ]
    },
    {
     "data": {
      "application/vnd.jupyter.widget-view+json": {
       "model_id": "1a5df3a9363c4dfe9fb26437d89f706d",
       "version_major": 2,
       "version_minor": 0
      },
      "text/plain": [
       "Processing BIOCID SMILES:   0%|          | 0/146 [00:00<?, ?it/s]"
      ]
     },
     "metadata": {},
     "output_type": "display_data"
    },
    {
     "name": "stdout",
     "output_type": "stream",
     "text": [
      "BIOCID: 143 SMILES, 159 names\n",
      "\n",
      "Loading DW from data/input/databases/drinkingwater.csv\n"
     ]
    },
    {
     "data": {
      "application/vnd.jupyter.widget-view+json": {
       "model_id": "a855e5fb3f7a44f4a5702887235fc382",
       "version_major": 2,
       "version_minor": 0
      },
      "text/plain": [
       "Processing DW SMILES:   0%|          | 0/4930 [00:00<?, ?it/s]"
      ]
     },
     "metadata": {},
     "output_type": "display_data"
    },
    {
     "name": "stdout",
     "output_type": "stream",
     "text": [
      "DW: 4889 SMILES, 5286 names\n",
      "\n",
      "Loading DOA from data/input/databases/drugofabuse.csv\n"
     ]
    },
    {
     "data": {
      "application/vnd.jupyter.widget-view+json": {
       "model_id": "74a921e345414a34b6415eab7d28a900",
       "version_major": 2,
       "version_minor": 0
      },
      "text/plain": [
       "Processing DOA SMILES:   0%|          | 0/537 [00:00<?, ?it/s]"
      ]
     },
     "metadata": {},
     "output_type": "display_data"
    },
    {
     "name": "stdout",
     "output_type": "stream",
     "text": [
      "DOA: 537 SMILES, 538 names\n",
      "\n",
      "Loading FOODC from data/input/databases/foodcontactchemicals.csv\n"
     ]
    },
    {
     "data": {
      "application/vnd.jupyter.widget-view+json": {
       "model_id": "0e9ff9ea9a384f1c855e2923368f92b9",
       "version_major": 2,
       "version_minor": 0
      },
      "text/plain": [
       "Processing FOODC SMILES:   0%|          | 0/7043 [00:00<?, ?it/s]"
      ]
     },
     "metadata": {},
     "output_type": "display_data"
    },
    {
     "name": "stdout",
     "output_type": "stream",
     "text": [
      "FOODC: 6975 SMILES, 13120 names\n",
      "\n",
      "Loading HUME from data/input/databases/humanmetabolite.csv\n"
     ]
    },
    {
     "data": {
      "application/vnd.jupyter.widget-view+json": {
       "model_id": "6e0df5115f3746a1ad178334a0bdd9a4",
       "version_major": 2,
       "version_minor": 0
      },
      "text/plain": [
       "Processing HUME SMILES:   0%|          | 0/65353 [00:00<?, ?it/s]"
      ]
     },
     "metadata": {},
     "output_type": "display_data"
    },
    {
     "name": "stdout",
     "output_type": "stream",
     "text": [
      "HUME: 64398 SMILES, 65570 names\n",
      "\n",
      "Loading HUTOX from data/input/databases/humanneurotoxins.csv\n"
     ]
    },
    {
     "data": {
      "application/vnd.jupyter.widget-view+json": {
       "model_id": "21bc34a65bf2436ebab264a6999078a8",
       "version_major": 2,
       "version_minor": 0
      },
      "text/plain": [
       "Processing HUTOX SMILES:   0%|          | 0/1465 [00:00<?, ?it/s]"
      ]
     },
     "metadata": {},
     "output_type": "display_data"
    },
    {
     "name": "stdout",
     "output_type": "stream",
     "text": [
      "HUTOX: 1451 SMILES, 1548 names\n",
      "\n",
      "Loading INDOOR from data/input/databases/indoor.csv\n"
     ]
    },
    {
     "data": {
      "application/vnd.jupyter.widget-view+json": {
       "model_id": "59b8a428d36a494ab17a9399aa82ca5b",
       "version_major": 2,
       "version_minor": 0
      },
      "text/plain": [
       "Processing INDOOR SMILES:   0%|          | 0/1945 [00:00<?, ?it/s]"
      ]
     },
     "metadata": {},
     "output_type": "display_data"
    },
    {
     "name": "stdout",
     "output_type": "stream",
     "text": [
      "INDOOR: 1939 SMILES, 1947 names\n",
      "\n",
      "Loading IND from data/input/databases/industrialchemicals.csv\n"
     ]
    },
    {
     "data": {
      "application/vnd.jupyter.widget-view+json": {
       "model_id": "fb39bb3868084baca74d8d2f44708529",
       "version_major": 2,
       "version_minor": 0
      },
      "text/plain": [
       "Processing IND SMILES:   0%|          | 0/281 [00:00<?, ?it/s]"
      ]
     },
     "metadata": {},
     "output_type": "display_data"
    },
    {
     "name": "stdout",
     "output_type": "stream",
     "text": [
      "IND: 279 SMILES, 286 names\n",
      "\n",
      "Loading NATOX from data/input/databases/naturaltoxins.csv\n"
     ]
    },
    {
     "data": {
      "application/vnd.jupyter.widget-view+json": {
       "model_id": "b36d661259e0460392da43455368edc0",
       "version_major": 2,
       "version_minor": 0
      },
      "text/plain": [
       "Processing NATOX SMILES:   0%|          | 0/3933 [00:00<?, ?it/s]"
      ]
     },
     "metadata": {},
     "output_type": "display_data"
    },
    {
     "name": "stdout",
     "output_type": "stream",
     "text": [
      "NATOX: 3920 SMILES, 3936 names\n",
      "\n",
      "Loading PMT from data/input/databases/persistentmobile.csv\n"
     ]
    },
    {
     "data": {
      "application/vnd.jupyter.widget-view+json": {
       "model_id": "b9853faf52b045dfaeee0ee4d4abd144",
       "version_major": 2,
       "version_minor": 0
      },
      "text/plain": [
       "Processing PMT SMILES:   0%|          | 0/399 [00:00<?, ?it/s]"
      ]
     },
     "metadata": {},
     "output_type": "display_data"
    },
    {
     "name": "stdout",
     "output_type": "stream",
     "text": [
      "PMT: 399 SMILES, 402 names\n",
      "\n",
      "Loading PCP from data/input/databases/personalcareproduct.csv\n"
     ]
    },
    {
     "data": {
      "application/vnd.jupyter.widget-view+json": {
       "model_id": "90204e4904a34c8183413c2f7ec15729",
       "version_major": 2,
       "version_minor": 0
      },
      "text/plain": [
       "Processing PCP SMILES:   0%|          | 0/3315 [00:00<?, ?it/s]"
      ]
     },
     "metadata": {},
     "output_type": "display_data"
    },
    {
     "name": "stdout",
     "output_type": "stream",
     "text": [
      "PCP: 3303 SMILES, 3317 names\n",
      "\n",
      "Loading PFAS from data/input/databases/PFAS.csv\n"
     ]
    },
    {
     "data": {
      "application/vnd.jupyter.widget-view+json": {
       "model_id": "bfedb5aaf1da4e9895409274b2317b49",
       "version_major": 2,
       "version_minor": 0
      },
      "text/plain": [
       "Processing PFAS SMILES:   0%|          | 0/4592 [00:00<?, ?it/s]"
      ]
     },
     "metadata": {},
     "output_type": "display_data"
    },
    {
     "name": "stdout",
     "output_type": "stream",
     "text": [
      "PFAS: 4505 SMILES, 5710 names\n",
      "\n",
      "Loading PHARMA from data/input/databases/pharma.csv\n"
     ]
    },
    {
     "data": {
      "application/vnd.jupyter.widget-view+json": {
       "model_id": "7a8c4fbe7bc841f99358fe3c39daf3e4",
       "version_major": 2,
       "version_minor": 0
      },
      "text/plain": [
       "Processing PHARMA SMILES:   0%|          | 0/9620 [00:00<?, ?it/s]"
      ]
     },
     "metadata": {},
     "output_type": "display_data"
    },
    {
     "name": "stdout",
     "output_type": "stream",
     "text": [
      "PHARMA: 9587 SMILES, 9627 names\n",
      "\n",
      "Loading PPP from data/input/databases/plantproductionproducts.csv\n"
     ]
    },
    {
     "data": {
      "application/vnd.jupyter.widget-view+json": {
       "model_id": "826d337b38c84323a443d23fe49ed765",
       "version_major": 2,
       "version_minor": 0
      },
      "text/plain": [
       "Processing PPP SMILES:   0%|          | 0/1691 [00:00<?, ?it/s]"
      ]
     },
     "metadata": {},
     "output_type": "display_data"
    },
    {
     "name": "stdout",
     "output_type": "stream",
     "text": [
      "PPP: 1673 SMILES, 1738 names\n",
      "\n",
      "Loading PLAST from data/input/databases/plasticadditives.csv\n"
     ]
    },
    {
     "data": {
      "application/vnd.jupyter.widget-view+json": {
       "model_id": "77db360ade454d23a2835918994cc9ae",
       "version_major": 2,
       "version_minor": 0
      },
      "text/plain": [
       "Processing PLAST SMILES:   0%|          | 0/3071 [00:00<?, ?it/s]"
      ]
     },
     "metadata": {},
     "output_type": "display_data"
    },
    {
     "name": "stdout",
     "output_type": "stream",
     "text": [
      "PLAST: 3048 SMILES, 4386 names\n",
      "\n",
      "Loading SMOKE from data/input/databases/smokecompounds.csv\n"
     ]
    },
    {
     "data": {
      "application/vnd.jupyter.widget-view+json": {
       "model_id": "47c7783fbb2a404aadb629efc1a3f300",
       "version_major": 2,
       "version_minor": 0
      },
      "text/plain": [
       "Processing SMOKE SMILES:   0%|          | 0/94 [00:00<?, ?it/s]"
      ]
     },
     "metadata": {},
     "output_type": "display_data"
    },
    {
     "name": "stdout",
     "output_type": "stream",
     "text": [
      "SMOKE: 94 SMILES, 95 names\n",
      "\n",
      "Loading SURF from data/input/databases/surfactants.csv\n"
     ]
    },
    {
     "data": {
      "application/vnd.jupyter.widget-view+json": {
       "model_id": "814a516009014251870363cc5b36a77e",
       "version_major": 2,
       "version_minor": 0
      },
      "text/plain": [
       "Processing SURF SMILES:   0%|          | 0/1628 [00:00<?, ?it/s]"
      ]
     },
     "metadata": {},
     "output_type": "display_data"
    },
    {
     "name": "stdout",
     "output_type": "stream",
     "text": [
      "SURF: 1578 SMILES, 2527 names\n",
      "\n",
      "Final results:\n",
      "BIOCID: 143 SMILES, 159 names\n",
      "DW: 4889 SMILES, 5286 names\n",
      "DOA: 537 SMILES, 538 names\n",
      "FOODC: 6975 SMILES, 13120 names\n",
      "HUME: 64398 SMILES, 65570 names\n",
      "HUTOX: 1451 SMILES, 1548 names\n",
      "INDOOR: 1939 SMILES, 1947 names\n",
      "IND: 279 SMILES, 286 names\n",
      "NATOX: 3920 SMILES, 3936 names\n",
      "PMT: 399 SMILES, 402 names\n",
      "PCP: 3303 SMILES, 3317 names\n",
      "PFAS: 4505 SMILES, 5710 names\n",
      "PHARMA: 9587 SMILES, 9627 names\n",
      "PPP: 1673 SMILES, 1738 names\n",
      "PLAST: 3048 SMILES, 4386 names\n",
      "SMOKE: 94 SMILES, 95 names\n",
      "SURF: 1578 SMILES, 2527 names\n"
     ]
    }
   ],
   "source": [
    "# Définition du chemin de base\n",
    "base_path = Path('data/input/databases')\n",
    "\n",
    "# Définition des catégories et leurs fichiers\n",
    "ref_files = {\n",
    "    'BIOCID': base_path / 'biocides.csv',\n",
    "    'DW': base_path / 'drinkingwater.csv',\n",
    "    'DOA': base_path / 'drugofabuse.csv',\n",
    "    'FOODC': base_path / 'foodcontactchemicals.csv',\n",
    "    'HUME': base_path / 'humanmetabolite.csv',\n",
    "    'HUTOX': base_path / 'humanneurotoxins.csv',\n",
    "    'INDOOR': base_path / 'indoor.csv',\n",
    "    'IND': base_path / 'industrialchemicals.csv',\n",
    "    'NATOX': base_path / 'naturaltoxins.csv',\n",
    "    'PMT': base_path / 'persistentmobile.csv',\n",
    "    'PCP': base_path / 'personalcareproduct.csv',\n",
    "    'PFAS': base_path / 'PFAS.csv',\n",
    "    'PHARMA': base_path / 'pharma.csv',\n",
    "    'PPP': base_path / 'plantproductionproducts.csv',\n",
    "    'PLAST': base_path / 'plasticadditives.csv',\n",
    "    'SMOKE': base_path / 'smokecompounds.csv',\n",
    "    'SURF': base_path / 'surfactants.csv'\n",
    "}\n",
    "\n",
    "\n",
    "def canonicalize_smiles_batch(smiles_list):\n",
    "    return [canonicalize_smiles(s) for s in smiles_list]\n",
    "\n",
    "# Charger et vérifier un fichier de référence\n",
    "def process_reference_file(category_file):\n",
    "    category, filepath = category_file\n",
    "    try:\n",
    "        # Vérifier si le fichier existe\n",
    "        if not filepath.exists():\n",
    "            print(f\"File not found: {filepath}\")\n",
    "            return category, {'smiles': set(), 'names': set()}\n",
    "        \n",
    "        # Afficher le contenu du fichier\n",
    "        print(f\"\\nLoading {category} from {filepath}\")\n",
    "        df = pd.read_csv(filepath, low_memory=False)\n",
    "        #print(f\"Columns in {category}: {df.columns.tolist()}\")\n",
    "        \n",
    "        smiles_col = next((col for col in df.columns if col.upper() == 'SMILES'), None)\n",
    "        name_col = next((col for col in df.columns if col.upper() == 'NAME'), None)\n",
    "        \n",
    "        if smiles_col:\n",
    "            smiles_list = list(df[smiles_col].dropna())\n",
    "            canonical_smiles = []\n",
    "            \n",
    "            # Traitement par lots avec barre de progression\n",
    "            for smiles in tqdm(smiles_list, desc=f\"Processing {category} SMILES\"):\n",
    "                can_smiles = canonicalize_smiles(smiles)\n",
    "                if can_smiles:\n",
    "                    canonical_smiles.append(can_smiles)\n",
    "            \n",
    "            smiles_set = set(canonical_smiles)\n",
    "        else:\n",
    "            print(f\"No SMILES column found in {category}\")\n",
    "            smiles_set = set()\n",
    "            \n",
    "        if name_col:\n",
    "            names_set = set(df[name_col].dropna().str.lower().unique())\n",
    "        else:\n",
    "            print(f\"No Name column found in {category}\")\n",
    "            names_set = set()\n",
    "        \n",
    "        return category, {\n",
    "            'smiles': smiles_set,\n",
    "            'names': names_set\n",
    "        }\n",
    "        \n",
    "    except Exception as e:\n",
    "        print(f\"Error processing {category}: {str(e)}\")\n",
    "        return category, {'smiles': set(), 'names': set()}\n",
    "    \n",
    "    \n",
    "# Chargement des fichiers de référence\n",
    "print(\"Processing reference files...\")\n",
    "reference_data = {}\n",
    "\n",
    "# Traiter chaque fichier séquentiellement avec barre de progression\n",
    "for category, filepath in tqdm(ref_files.items(), desc=\"Overall progress\"):\n",
    "    result = process_reference_file((category, filepath))\n",
    "    reference_data[result[0]] = result[1]\n",
    "    print(f\"{result[0]}: {len(result[1]['smiles'])} SMILES, {len(result[1]['names'])} names\")\n",
    "\n",
    "print(\"\\nFinal results:\")\n",
    "for category, data in reference_data.items():\n",
    "    print(f\"{category}: {len(data['smiles'])} SMILES, {len(data['names'])} names\")"
   ]
  },
  {
   "cell_type": "code",
   "execution_count": 10,
   "id": "cfd13568",
   "metadata": {
    "scrolled": false
   },
   "outputs": [],
   "source": [
    "def classify_molecule(row, reference_dict):\n",
    "    \"\"\"\n",
    "    Classifie une molécule en vérifiant ses SMILES et son nom dans les références\n",
    "    \"\"\"\n",
    "    categories = set()\n",
    "    \n",
    "    smiles = row.get('SMILES', '')\n",
    "    name = str(row.get('Name', '')).lower() if 'Name' in row else ''\n",
    "    \n",
    "    if pd.isna(smiles) and not name:\n",
    "        return [\"UNCLASSIFIED\"]\n",
    "    \n",
    "    for category, ref_data in reference_dict.items():\n",
    "        if not pd.isna(smiles) and smiles in ref_data['smiles']:\n",
    "            categories.add(category)\n",
    "        if name and name in ref_data['names']:\n",
    "            categories.add(category)\n",
    "    \n",
    "    return list(categories) if categories else [\"UNCLASSIFIED\"]"
   ]
  },
  {
   "cell_type": "code",
   "execution_count": 11,
   "id": "aa45501d",
   "metadata": {},
   "outputs": [
    {
     "name": "stdout",
     "output_type": "stream",
     "text": [
      "Loading main database...\n",
      "\n",
      "Loaded:\n",
      "Positive mode: 591654 entries\n",
      "Negative mode: 289856 entries\n"
     ]
    }
   ],
   "source": [
    "# Chargement de la base principale\n",
    "print(\"Loading main database...\")\n",
    "database_path = base_path / 'norman_all_ccs_all_rt_pos_neg_with_ms2.h5'\n",
    "\n",
    "df_pos = pd.read_hdf(database_path, key='positive')\n",
    "df_neg = pd.read_hdf(database_path, key='negative')\n",
    "\n",
    "print(f\"\\nLoaded:\")\n",
    "print(f\"Positive mode: {len(df_pos)} entries\")\n",
    "print(f\"Negative mode: {len(df_neg)} entries\")"
   ]
  },
  {
   "cell_type": "code",
   "execution_count": 23,
   "id": "e8341326",
   "metadata": {},
   "outputs": [
    {
     "name": "stdout",
     "output_type": "stream",
     "text": [
      "\n",
      "Classifying positive mode molecules...\n"
     ]
    },
    {
     "data": {
      "application/vnd.jupyter.widget-view+json": {
       "model_id": "08843ea553644e758a7ce49e3f64f7b1",
       "version_major": 2,
       "version_minor": 0
      },
      "text/plain": [
       "  0%|          | 0/591654 [00:00<?, ?it/s]"
      ]
     },
     "metadata": {},
     "output_type": "display_data"
    },
    {
     "name": "stdout",
     "output_type": "stream",
     "text": [
      "\n",
      "Classifying negative mode molecules...\n"
     ]
    },
    {
     "data": {
      "application/vnd.jupyter.widget-view+json": {
       "model_id": "e17860b560d64bd8904f22279d69eb6f",
       "version_major": 2,
       "version_minor": 0
      },
      "text/plain": [
       "  0%|          | 0/289856 [00:00<?, ?it/s]"
      ]
     },
     "metadata": {},
     "output_type": "display_data"
    }
   ],
   "source": [
    "from tqdm.notebook import tqdm\n",
    "tqdm.pandas()  # Activer tqdm pour pandas\n",
    "# Classification des molécules\n",
    "print(\"\\nClassifying positive mode molecules...\")\n",
    "df_pos['categories'] = df_pos.progress_apply(lambda row: classify_molecule(row, reference_data), axis=1)\n",
    "\n",
    "print(\"\\nClassifying negative mode molecules...\")\n",
    "df_neg['categories'] = df_neg.progress_apply(lambda row: classify_molecule(row, reference_data), axis=1)"
   ]
  },
  {
   "cell_type": "code",
   "execution_count": 24,
   "id": "62a60e39",
   "metadata": {},
   "outputs": [
    {
     "name": "stdout",
     "output_type": "stream",
     "text": [
      "\n",
      "Classification statistics for unique molecules:\n",
      "Total unique SMILES: 72577\n",
      "\n",
      "Number of unique molecules per category:\n",
      "BIOCID: 136 unique molecules\n",
      "DOA: 475 unique molecules\n",
      "DW: 4414 unique molecules\n",
      "FOODC: 6034 unique molecules\n",
      "HUME: 49949 unique molecules\n",
      "HUTOX: 1285 unique molecules\n",
      "IND: 258 unique molecules\n",
      "INDOOR: 1569 unique molecules\n",
      "NATOX: 1549 unique molecules\n",
      "PCP: 2855 unique molecules\n",
      "PFAS: 3662 unique molecules\n",
      "PHARMA: 7861 unique molecules\n",
      "PLAST: 2795 unique molecules\n",
      "PMT: 367 unique molecules\n",
      "PPP: 964 unique molecules\n",
      "SMOKE: 92 unique molecules\n",
      "SURF: 477 unique molecules\n",
      "UNCLASSIFIED: 12040 unique molecules\n",
      "\n",
      "Additional statistics:\n",
      "Total number of unique molecules: 72577\n",
      "Molecules with multiple categories: 14907 (20.54%)\n"
     ]
    }
   ],
   "source": [
    "# Statistiques pour les molécules uniques\n",
    "print(\"\\nClassification statistics for unique molecules:\")\n",
    "\n",
    "# Obtenir tous les SMILES uniques et leurs catégories\n",
    "all_smiles = set(df_pos['SMILES']).union(set(df_neg['SMILES']))\n",
    "print(f\"Total unique SMILES: {len(all_smiles)}\")\n",
    "\n",
    "# Créer un dictionnaire SMILES -> catégories\n",
    "unique_mol_categories = {}\n",
    "for df in [df_pos, df_neg]:\n",
    "    smiles_cat_dict = df.set_index('SMILES')['categories'].to_dict()\n",
    "    for smiles, cats in smiles_cat_dict.items():\n",
    "        if smiles in unique_mol_categories:\n",
    "            unique_mol_categories[smiles].update(cats)\n",
    "        else:\n",
    "            unique_mol_categories[smiles] = set(cats)\n",
    "\n",
    "# Compter les catégories pour les molécules uniques\n",
    "unique_categories_count = {}\n",
    "for cats in unique_mol_categories.values():\n",
    "    for cat in cats:\n",
    "        unique_categories_count[cat] = unique_categories_count.get(cat, 0) + 1\n",
    "\n",
    "print(\"\\nNumber of unique molecules per category:\")\n",
    "for cat, count in sorted(unique_categories_count.items()):\n",
    "    print(f\"{cat}: {count} unique molecules\")\n",
    "\n",
    "# Statistiques supplémentaires\n",
    "print(\"\\nAdditional statistics:\")\n",
    "print(f\"Total number of unique molecules: {len(unique_mol_categories)}\")\n",
    "multiple_cats = sum(1 for cats in unique_mol_categories.values() if len(cats) > 1)\n",
    "print(f\"Molecules with multiple categories: {multiple_cats} ({multiple_cats/len(unique_mol_categories)*100:.2f}%)\")"
   ]
  },
  {
   "cell_type": "code",
   "execution_count": 26,
   "id": "7138f364",
   "metadata": {
    "scrolled": false
   },
   "outputs": [
    {
     "name": "stdout",
     "output_type": "stream",
     "text": [
      "Statistiques détaillées par mode :\n",
      "\n",
      "Mode positif:\n",
      "Total composés uniques: 72576\n",
      "Avec MS2: 2024 (2.8%)\n",
      "Avec RT observé: 216 (0.3%)\n",
      "Avec RT et MS2: 100 (0.1%)\n",
      "\n",
      "Statistiques par catégorie:\n",
      "\n",
      "BIOCID:\n",
      "  Total: 136\n",
      "  Avec MS2: 43 (31.6% de la catégorie)\n",
      "  Avec RT: 21 (15.4% de la catégorie)\n",
      "  Avec RT et MS2: 17 (12.5% de la catégorie)\n",
      "\n",
      "DOA:\n",
      "  Total: 475\n",
      "  Avec MS2: 59 (12.4% de la catégorie)\n",
      "  Avec RT: 4 (0.8% de la catégorie)\n",
      "  Avec RT et MS2: 3 (0.6% de la catégorie)\n",
      "\n",
      "DW:\n",
      "  Total: 4414\n",
      "  Avec MS2: 690 (15.6% de la catégorie)\n",
      "  Avec RT: 116 (2.6% de la catégorie)\n",
      "  Avec RT et MS2: 75 (1.7% de la catégorie)\n",
      "\n",
      "FOODC:\n",
      "  Total: 6034\n",
      "  Avec MS2: 414 (6.9% de la catégorie)\n",
      "  Avec RT: 44 (0.7% de la catégorie)\n",
      "  Avec RT et MS2: 31 (0.5% de la catégorie)\n",
      "\n",
      "HUME:\n",
      "  Total: 49949\n",
      "  Avec MS2: 1765 (3.5% de la catégorie)\n",
      "  Avec RT: 154 (0.3% de la catégorie)\n",
      "  Avec RT et MS2: 93 (0.2% de la catégorie)\n",
      "\n",
      "HUTOX:\n",
      "  Total: 1285\n",
      "  Avec MS2: 243 (18.9% de la catégorie)\n",
      "  Avec RT: 50 (3.9% de la catégorie)\n",
      "  Avec RT et MS2: 27 (2.1% de la catégorie)\n",
      "\n",
      "IND:\n",
      "  Total: 258\n",
      "  Avec MS2: 9 (3.5% de la catégorie)\n",
      "  Avec RT: 0 (0.0% de la catégorie)\n",
      "  Avec RT et MS2: 0 (0.0% de la catégorie)\n",
      "\n",
      "INDOOR:\n",
      "  Total: 1569\n",
      "  Avec MS2: 262 (16.7% de la catégorie)\n",
      "  Avec RT: 47 (3.0% de la catégorie)\n",
      "  Avec RT et MS2: 33 (2.1% de la catégorie)\n",
      "\n",
      "NATOX:\n",
      "  Total: 1549\n",
      "  Avec MS2: 144 (9.3% de la catégorie)\n",
      "  Avec RT: 7 (0.5% de la catégorie)\n",
      "  Avec RT et MS2: 5 (0.3% de la catégorie)\n",
      "\n",
      "PCP:\n",
      "  Total: 2855\n",
      "  Avec MS2: 219 (7.7% de la catégorie)\n",
      "  Avec RT: 26 (0.9% de la catégorie)\n",
      "  Avec RT et MS2: 17 (0.6% de la catégorie)\n",
      "\n",
      "PFAS:\n",
      "  Total: 3662\n",
      "  Avec MS2: 4 (0.1% de la catégorie)\n",
      "  Avec RT: 0 (0.0% de la catégorie)\n",
      "  Avec RT et MS2: 0 (0.0% de la catégorie)\n",
      "\n",
      "PHARMA:\n",
      "  Total: 7861\n",
      "  Avec MS2: 748 (9.5% de la catégorie)\n",
      "  Avec RT: 87 (1.1% de la catégorie)\n",
      "  Avec RT et MS2: 49 (0.6% de la catégorie)\n",
      "\n",
      "PLAST:\n",
      "  Total: 2795\n",
      "  Avec MS2: 237 (8.5% de la catégorie)\n",
      "  Avec RT: 22 (0.8% de la catégorie)\n",
      "  Avec RT et MS2: 15 (0.5% de la catégorie)\n",
      "\n",
      "PMT:\n",
      "  Total: 367\n",
      "  Avec MS2: 76 (20.7% de la catégorie)\n",
      "  Avec RT: 21 (5.7% de la catégorie)\n",
      "  Avec RT et MS2: 13 (3.5% de la catégorie)\n",
      "\n",
      "PPP:\n",
      "  Total: 964\n",
      "  Avec MS2: 223 (23.1% de la catégorie)\n",
      "  Avec RT: 48 (5.0% de la catégorie)\n",
      "  Avec RT et MS2: 28 (2.9% de la catégorie)\n",
      "\n",
      "SMOKE:\n",
      "  Total: 92\n",
      "  Avec MS2: 6 (6.5% de la catégorie)\n",
      "  Avec RT: 0 (0.0% de la catégorie)\n",
      "  Avec RT et MS2: 0 (0.0% de la catégorie)\n",
      "\n",
      "SURF:\n",
      "  Total: 477\n",
      "  Avec MS2: 60 (12.6% de la catégorie)\n",
      "  Avec RT: 14 (2.9% de la catégorie)\n",
      "  Avec RT et MS2: 11 (2.3% de la catégorie)\n",
      "\n",
      "Mode négatif:\n",
      "Total composés uniques: 72481\n",
      "Avec MS2: 1086 (1.5%)\n",
      "Avec RT observé: 121 (0.2%)\n",
      "Avec RT et MS2: 35 (0.0%)\n",
      "\n",
      "Statistiques par catégorie:\n",
      "\n",
      "BIOCID:\n",
      "  Total: 132\n",
      "  Avec MS2: 13 (9.8% de la catégorie)\n",
      "  Avec RT: 17 (12.9% de la catégorie)\n",
      "  Avec RT et MS2: 3 (2.3% de la catégorie)\n",
      "\n",
      "DOA:\n",
      "  Total: 474\n",
      "  Avec MS2: 7 (1.5% de la catégorie)\n",
      "  Avec RT: 3 (0.6% de la catégorie)\n",
      "  Avec RT et MS2: 0 (0.0% de la catégorie)\n",
      "\n",
      "DW:\n",
      "  Total: 4382\n",
      "  Avec MS2: 275 (6.3% de la catégorie)\n",
      "  Avec RT: 84 (1.9% de la catégorie)\n",
      "  Avec RT et MS2: 25 (0.6% de la catégorie)\n",
      "\n",
      "FOODC:\n",
      "  Total: 6025\n",
      "  Avec MS2: 210 (3.5% de la catégorie)\n",
      "  Avec RT: 35 (0.6% de la catégorie)\n",
      "  Avec RT et MS2: 13 (0.2% de la catégorie)\n",
      "\n",
      "HUME:\n",
      "  Total: 49906\n",
      "  Avec MS2: 885 (1.8% de la catégorie)\n",
      "  Avec RT: 111 (0.2% de la catégorie)\n",
      "  Avec RT et MS2: 33 (0.1% de la catégorie)\n",
      "\n",
      "HUTOX:\n",
      "  Total: 1268\n",
      "  Avec MS2: 79 (6.2% de la catégorie)\n",
      "  Avec RT: 33 (2.6% de la catégorie)\n",
      "  Avec RT et MS2: 11 (0.9% de la catégorie)\n",
      "\n",
      "IND:\n",
      "  Total: 258\n",
      "  Avec MS2: 21 (8.1% de la catégorie)\n",
      "  Avec RT: 0 (0.0% de la catégorie)\n",
      "  Avec RT et MS2: 0 (0.0% de la catégorie)\n",
      "\n",
      "INDOOR:\n",
      "  Total: 1557\n",
      "  Avec MS2: 125 (8.0% de la catégorie)\n",
      "  Avec RT: 35 (2.2% de la catégorie)\n",
      "  Avec RT et MS2: 14 (0.9% de la catégorie)\n",
      "\n",
      "NATOX:\n",
      "  Total: 1547\n",
      "  Avec MS2: 90 (5.8% de la catégorie)\n",
      "  Avec RT: 5 (0.3% de la catégorie)\n",
      "  Avec RT et MS2: 3 (0.2% de la catégorie)\n",
      "\n",
      "PCP:\n",
      "  Total: 2850\n",
      "  Avec MS2: 116 (4.1% de la catégorie)\n",
      "  Avec RT: 21 (0.7% de la catégorie)\n",
      "  Avec RT et MS2: 11 (0.4% de la catégorie)\n",
      "\n",
      "PFAS:\n",
      "  Total: 3662\n",
      "  Avec MS2: 35 (1.0% de la catégorie)\n",
      "  Avec RT: 0 (0.0% de la catégorie)\n",
      "  Avec RT et MS2: 0 (0.0% de la catégorie)\n",
      "\n",
      "PHARMA:\n",
      "  Total: 7834\n",
      "  Avec MS2: 353 (4.5% de la catégorie)\n",
      "  Avec RT: 60 (0.8% de la catégorie)\n",
      "  Avec RT et MS2: 21 (0.3% de la catégorie)\n",
      "\n",
      "PLAST:\n",
      "  Total: 2791\n",
      "  Avec MS2: 127 (4.6% de la catégorie)\n",
      "  Avec RT: 18 (0.6% de la catégorie)\n",
      "  Avec RT et MS2: 8 (0.3% de la catégorie)\n",
      "\n",
      "PMT:\n",
      "  Total: 361\n",
      "  Avec MS2: 43 (11.9% de la catégorie)\n",
      "  Avec RT: 15 (4.2% de la catégorie)\n",
      "  Avec RT et MS2: 6 (1.7% de la catégorie)\n",
      "\n",
      "PPP:\n",
      "  Total: 951\n",
      "  Avec MS2: 102 (10.7% de la catégorie)\n",
      "  Avec RT: 35 (3.7% de la catégorie)\n",
      "  Avec RT et MS2: 8 (0.8% de la catégorie)\n",
      "\n",
      "SMOKE:\n",
      "  Total: 92\n",
      "  Avec MS2: 1 (1.1% de la catégorie)\n",
      "  Avec RT: 0 (0.0% de la catégorie)\n",
      "  Avec RT et MS2: 0 (0.0% de la catégorie)\n",
      "\n",
      "SURF:\n",
      "  Total: 475\n",
      "  Avec MS2: 30 (6.3% de la catégorie)\n",
      "  Avec RT: 12 (2.5% de la catégorie)\n",
      "  Avec RT et MS2: 6 (1.3% de la catégorie)\n",
      "\n",
      "Statistiques globales (tous modes confondus):\n",
      "\n",
      "Total molécules uniques: 72577\n",
      "Avec MS2: 2453 (3.4%)\n",
      "Avec RT: 217 (0.3%)\n",
      "Avec RT et MS2: 102 (0.1%)\n"
     ]
    }
   ],
   "source": [
    "print(\"Statistiques détaillées par mode :\")\n",
    "\n",
    "# Fonction pour obtenir les statistiques par catégorie\n",
    "def get_category_stats(df, category):\n",
    "    total = len(df[df['categories'].apply(lambda x: category in x)]['SMILES'].unique())\n",
    "    ms2 = len(df[df['categories'].apply(lambda x: category in x)].dropna(subset=['peaks_ms2_mz'])['SMILES'].unique())\n",
    "    rt = len(df[df['categories'].apply(lambda x: category in x)].dropna(subset=['Observed_RT'])['SMILES'].unique())\n",
    "    rt_ms2 = len(df[df['categories'].apply(lambda x: category in x)].dropna(subset=['Observed_RT', 'peaks_ms2_mz'])['SMILES'].unique())\n",
    "    return total, ms2, rt, rt_ms2\n",
    "\n",
    "# Statistiques globales pour chaque mode\n",
    "for mode, df in [(\"Mode positif\", df_pos), (\"Mode négatif\", df_neg)]:\n",
    "    print(f\"\\n{mode}:\")\n",
    "    total = len(df['SMILES'].unique())\n",
    "    ms2 = len(df.dropna(subset=['peaks_ms2_mz'])['SMILES'].unique())\n",
    "    rt = len(df.dropna(subset=['Observed_RT'])['SMILES'].unique())\n",
    "    rt_ms2 = len(df.dropna(subset=['Observed_RT', 'peaks_ms2_mz'])['SMILES'].unique())\n",
    "    \n",
    "    print(f\"Total composés uniques: {total}\")\n",
    "    print(f\"Avec MS2: {ms2} ({ms2/total*100:.1f}%)\")\n",
    "    print(f\"Avec RT observé: {rt} ({rt/total*100:.1f}%)\")\n",
    "    print(f\"Avec RT et MS2: {rt_ms2} ({rt_ms2/total*100:.1f}%)\")\n",
    "    \n",
    "    print(\"\\nStatistiques par catégorie:\")\n",
    "    for category in sorted(set(cat for cats in df['categories'] for cat in cats)):\n",
    "        if category != \"UNCLASSIFIED\":\n",
    "            total, ms2, rt, rt_ms2 = get_category_stats(df, category)\n",
    "            print(f\"\\n{category}:\")\n",
    "            print(f\"  Total: {total}\")\n",
    "            print(f\"  Avec MS2: {ms2} ({ms2/total*100:.1f}% de la catégorie)\")\n",
    "            print(f\"  Avec RT: {rt} ({rt/total*100:.1f}% de la catégorie)\")\n",
    "            print(f\"  Avec RT et MS2: {rt_ms2} ({rt_ms2/total*100:.1f}% de la catégorie)\")\n",
    "\n",
    "# Statistiques pour les molécules uniques tous modes confondus\n",
    "print(\"\\nStatistiques globales (tous modes confondus):\")\n",
    "all_smiles = set(df_pos['SMILES']).union(set(df_neg['SMILES']))\n",
    "all_smiles_ms2 = set(df_pos.dropna(subset=['peaks_ms2_mz'])['SMILES']).union(\n",
    "    set(df_neg.dropna(subset=['peaks_ms2_mz'])['SMILES']))\n",
    "all_smiles_rt = set(df_pos.dropna(subset=['Observed_RT'])['SMILES']).union(\n",
    "    set(df_neg.dropna(subset=['Observed_RT'])['SMILES']))\n",
    "all_smiles_rt_ms2 = set(df_pos.dropna(subset=['Observed_RT', 'peaks_ms2_mz'])['SMILES']).union(\n",
    "    set(df_neg.dropna(subset=['Observed_RT', 'peaks_ms2_mz'])['SMILES']))\n",
    "\n",
    "print(f\"\\nTotal molécules uniques: {len(all_smiles)}\")\n",
    "print(f\"Avec MS2: {len(all_smiles_ms2)} ({len(all_smiles_ms2)/len(all_smiles)*100:.1f}%)\")\n",
    "print(f\"Avec RT: {len(all_smiles_rt)} ({len(all_smiles_rt)/len(all_smiles)*100:.1f}%)\")\n",
    "print(f\"Avec RT et MS2: {len(all_smiles_rt_ms2)} ({len(all_smiles_rt_ms2)/len(all_smiles)*100:.1f}%)\")"
   ]
  },
  {
   "cell_type": "code",
   "execution_count": 28,
   "id": "671ec483",
   "metadata": {},
   "outputs": [
    {
     "name": "stdout",
     "output_type": "stream",
     "text": [
      "Saving results...\n",
      "Results saved successfully to data/input/databases/norman_all_ccs_all_rt_pos_neg_with_ms2_classified.h5!\n"
     ]
    }
   ],
   "source": [
    "# Sauvegarde des résultats\n",
    "output_path = base_path / 'norman_all_ccs_all_rt_pos_neg_with_ms2_classified.h5'\n",
    "print(\"Saving results...\")\n",
    "df_pos.to_hdf(output_path, key='positive', mode='w')\n",
    "df_neg.to_hdf(output_path, key='negative')\n",
    "print(f\"Results saved successfully to {output_path}!\")"
   ]
  }
 ],
 "metadata": {
  "kernelspec": {
   "display_name": "Python 3 (ipykernel)",
   "language": "python",
   "name": "python3"
  },
  "language_info": {
   "codemirror_mode": {
    "name": "ipython",
    "version": 3
   },
   "file_extension": ".py",
   "mimetype": "text/x-python",
   "name": "python",
   "nbconvert_exporter": "python",
   "pygments_lexer": "ipython3",
   "version": "3.10.8"
  },
  "toc": {
   "base_numbering": 1,
   "nav_menu": {},
   "number_sections": true,
   "sideBar": true,
   "skip_h1_title": false,
   "title_cell": "Table of Contents",
   "title_sidebar": "Contents",
   "toc_cell": false,
   "toc_position": {},
   "toc_section_display": true,
   "toc_window_display": false
  }
 },
 "nbformat": 4,
 "nbformat_minor": 5
}
