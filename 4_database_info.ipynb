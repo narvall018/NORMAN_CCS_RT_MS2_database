{
 "cells": [
  {
   "cell_type": "markdown",
   "id": "f7a84c71",
   "metadata": {},
   "source": [
    "# Analyses statistiques de la base de données"
   ]
  },
  {
   "cell_type": "markdown",
   "id": "310df995",
   "metadata": {},
   "source": [
    "# Chargement des données"
   ]
  },
  {
   "cell_type": "code",
   "execution_count": 2,
   "id": "4b05c28b",
   "metadata": {},
   "outputs": [],
   "source": [
    "import pandas as pd\n",
    "import matplotlib.pyplot as plt\n",
    "import seaborn as sns\n",
    "\n",
    "# Chargement du fichier HDF5\n",
    "with pd.HDFStore(\"norman_all_ccs_all_rt_pos_neg_with_ms2.h5\") as store:\n",
    "    df_pos = store['positive']\n",
    "    df_neg = store['negative']"
   ]
  },
  {
   "cell_type": "markdown",
   "id": "bdbcf215",
   "metadata": {},
   "source": [
    "# Statistiques descriptives"
   ]
  },
  {
   "cell_type": "code",
   "execution_count": 6,
   "id": "8b2faec8",
   "metadata": {},
   "outputs": [
    {
     "name": "stdout",
     "output_type": "stream",
     "text": [
      "Mode positif:\n",
      "Total composés: 74688\n",
      "Avec MS2: 2280\n",
      "Avec RT observé: 213\n",
      "Avec RT et MS2: 121\n",
      "\n",
      "Mode négatif:\n",
      "Total composés: 74600\n",
      "Avec MS2: 1277\n",
      "Avec RT observé: 125\n",
      "Avec RT et MS2: 35\n"
     ]
    }
   ],
   "source": [
    "# Statistiques mode positif\n",
    "total_pos = len(df_pos['Name'].unique())\n",
    "ms2_pos = len(df_pos.dropna(subset=['peaks_ms2_mz'])['Name'].unique())\n",
    "rt_pos = len(df_pos.dropna(subset=['Observed_RT'])['Name'].unique())\n",
    "rt_ms2_pos = len(df_pos.dropna(subset=['Observed_RT', 'peaks_ms2_mz'])['Name'].unique())\n",
    "\n",
    "# Statistiques mode négatif\n",
    "total_neg = len(df_neg['Name'].unique())\n",
    "ms2_neg = len(df_neg.dropna(subset=['peaks_ms2_mz'])['Name'].unique())\n",
    "rt_neg = len(df_neg.dropna(subset=['Observed_RT'])['Name'].unique())\n",
    "rt_ms2_neg = len(df_neg.dropna(subset=['Observed_RT', 'peaks_ms2_mz'])['Name'].unique())\n",
    "\n",
    "print(\"Mode positif:\")\n",
    "print(f\"Total composés: {total_pos}\")\n",
    "print(f\"Avec MS2: {ms2_pos}\")\n",
    "print(f\"Avec RT observé: {rt_pos}\")\n",
    "print(f\"Avec RT et MS2: {rt_ms2_pos}\")\n",
    "\n",
    "print(\"\\nMode négatif:\")\n",
    "print(f\"Total composés: {total_neg}\")\n",
    "print(f\"Avec MS2: {ms2_neg}\")\n",
    "print(f\"Avec RT observé: {rt_neg}\")\n",
    "print(f\"Avec RT et MS2: {rt_ms2_neg}\")"
   ]
  }
 ],
 "metadata": {
  "kernelspec": {
   "display_name": "Python 3 (ipykernel)",
   "language": "python",
   "name": "python3"
  },
  "language_info": {
   "codemirror_mode": {
    "name": "ipython",
    "version": 3
   },
   "file_extension": ".py",
   "mimetype": "text/x-python",
   "name": "python",
   "nbconvert_exporter": "python",
   "pygments_lexer": "ipython3",
   "version": "3.10.8"
  },
  "toc": {
   "base_numbering": 1,
   "nav_menu": {},
   "number_sections": true,
   "sideBar": true,
   "skip_h1_title": false,
   "title_cell": "Table of Contents",
   "title_sidebar": "Contents",
   "toc_cell": false,
   "toc_position": {},
   "toc_section_display": true,
   "toc_window_display": false
  }
 },
 "nbformat": 4,
 "nbformat_minor": 5
}
