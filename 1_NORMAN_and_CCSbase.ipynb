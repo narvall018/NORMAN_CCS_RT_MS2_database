{
 "cells": [
  {
   "cell_type": "markdown",
   "id": "b3d7efed",
   "metadata": {},
   "source": [
    "# Introduction"
   ]
  },
  {
   "cell_type": "markdown",
   "id": "90d6d3d3",
   "metadata": {},
   "source": [
    "Ce premier notebook a pour but de construire une base de données combinant les données de NORMAN et de de CCSbase.  \n",
    "- Les contaminants d'intérêt émergent de la base NORMAN-SusDat (https://www.norman-network.com/nds/susdat/)\n",
    "- Les valeurs de CCS (Collision Cross Section) expérimentales et prédites (https://ccsbase.net/about)"
   ]
  },
  {
   "cell_type": "markdown",
   "id": "d886435b",
   "metadata": {},
   "source": [
    "# Import des packages"
   ]
  },
  {
   "cell_type": "code",
   "execution_count": 3,
   "id": "7330a9b2",
   "metadata": {},
   "outputs": [],
   "source": [
    "import pandas as pd\n",
    "from rdkit import Chem"
   ]
  },
  {
   "cell_type": "markdown",
   "id": "47f6f46c",
   "metadata": {},
   "source": [
    "Pour assurer une correspondance précise entre les bases de données, nous devons standardiser la représentation des molécules :"
   ]
  },
  {
   "cell_type": "code",
   "execution_count": 2,
   "id": "3fffd5ef",
   "metadata": {},
   "outputs": [],
   "source": [
    "def standardize_smiles(smiles):\n",
    "    \"\"\"\n",
    "    Standardise les SMILES en utilisant RDKit\n",
    "    Args:\n",
    "        smiles (str): SMILES à standardiser\n",
    "    Returns:\n",
    "        str: SMILES standardisé ou None si invalide\n",
    "    \"\"\"\n",
    "    try:\n",
    "        mol = Chem.MolFromSmiles(smiles)\n",
    "        if mol is not None:\n",
    "            return Chem.MolToSmiles(mol, isomericSmiles=True)\n",
    "        else:\n",
    "            return None\n",
    "    except:\n",
    "        return None"
   ]
  },
  {
   "cell_type": "markdown",
   "id": "3f680e19",
   "metadata": {},
   "source": [
    "# Importation des bases de données sources et standardisation\n"
   ]
  },
  {
   "cell_type": "code",
   "execution_count": 12,
   "id": "e68a6c0e",
   "metadata": {},
   "outputs": [
    {
     "name": "stdout",
     "output_type": "stream",
     "text": [
      "Nombre de composés dans la base Norman : 120436\n"
     ]
    },
    {
     "name": "stderr",
     "output_type": "stream",
     "text": [
      "/tmp/ipykernel_212675/348901336.py:1: DtypeWarning: Columns (5,6,10,12,13,19,20,22,23,26,28,30,32,33,35,38,41,44,46,47,48,49,50,51,57,61,65,66,67) have mixed types. Specify dtype option on import or set low_memory=False.\n",
      "  norman = pd.read_csv(\"./norman.csv\")\n"
     ]
    }
   ],
   "source": [
    "norman = pd.read_csv(\"./norman.csv\")\n",
    "print(f\"Nombre de composés dans la base Norman : {len(norman['Name'].unique())}\")"
   ]
  },
  {
   "cell_type": "code",
   "execution_count": 20,
   "id": "3f905f7b",
   "metadata": {},
   "outputs": [
    {
     "name": "stdout",
     "output_type": "stream",
     "text": [
      "Nombre de composés CCS expérimentales après filtrage : 3318\n"
     ]
    }
   ],
   "source": [
    "# Chargement CCS expérimentale\n",
    "ccs_exp = pd.read_excel(\"./ccs_base_experimental.xlsx\")\n",
    "\n",
    "# Filtrage TW et standardisation\n",
    "ccs_exp_clean = ccs_exp[ccs_exp['CCS Type'] == 'TW'].copy()\n",
    "ccs_exp_clean['SMILES'] = ccs_exp_clean['SMI'].apply(standardize_smiles)\n",
    "\n",
    "# Sélection des colonnes pertinentes\n",
    "ccs_exp_filtered = ccs_exp_clean[['SMILES', 'CCS', 'Adduct', 'M/Z']].copy()\n",
    "ccs_exp_filtered.rename(columns={'CCS': 'ccs_exp', 'M/Z': 'mz_exp'}, inplace=True)\n",
    "\n",
    "print(f\"Nombre de composés CCS expérimentales après filtrage : {len(ccs_exp_filtered)}\")"
   ]
  },
  {
   "cell_type": "code",
   "execution_count": null,
   "id": "3dace532",
   "metadata": {},
   "outputs": [
    {
     "name": "stderr",
     "output_type": "stream",
     "text": [
      "/tmp/ipykernel_212675/3642234017.py:2: DtypeWarning: Columns (0) have mixed types. Specify dtype option on import or set low_memory=False.\n",
      "  ccs_pred = pd.read_csv(\"CCSBase_Predicted database.csv\")\n"
     ]
    }
   ],
   "source": [
    "# Chargement CCS prédite\n",
    "ccs_pred = pd.read_csv(\"CCSBase_Predicted database.csv\")\n",
    "\n",
    "# Standardisation des SMILES\n",
    "ccs_pred_clean = ccs_pred.copy()\n",
    "ccs_pred_clean['SMILES'] = ccs_pred_clean['smi'].apply(standardize_smiles)\n",
    "\n",
    "# Sélection des colonnes pertinentes\n",
    "ccs_pred_filtered = ccs_pred_clean[['SMILES', 'ccs', 'adduct', 'mz']].copy()\n",
    "ccs_pred_filtered.rename(columns={'ccs': 'ccs_pred'}, inplace=True)\n",
    "\n",
    "print(f\"Nombre de composés CCS prédites après filtrage : {len(ccs_pred_filtered)}\")"
   ]
  },
  {
   "cell_type": "markdown",
   "id": "51c5f081",
   "metadata": {},
   "source": [
    "# Fusion des bases de données"
   ]
  },
  {
   "cell_type": "code",
   "execution_count": null,
   "id": "90ce3122",
   "metadata": {},
   "outputs": [],
   "source": [
    "# Fusion avec CCS expérimentales\n",
    "norman_with_exp = pd.merge(norman_clean, ccs_exp_filtered, on='SMILES', how='left')\n",
    "\n",
    "# Fusion avec CCS prédites\n",
    "norman_final = pd.merge(norman_with_exp, ccs_pred_filtered, on='SMILES', how='left')\n",
    "\n"
   ]
  },
  {
   "cell_type": "markdown",
   "id": "5a099e7b",
   "metadata": {},
   "source": [
    "# Sauvegarde "
   ]
  },
  {
   "cell_type": "code",
   "execution_count": null,
   "id": "cc37e022",
   "metadata": {},
   "outputs": [],
   "source": [
    "# Séparation des modes d'ionisation\n",
    "norman_positive = norman_final[norman_final['adduct'].str.endswith('+')]\n",
    "norman_negative = norman_final[norman_final['adduct'].str.endswith('-')]\n",
    "\n",
    "# Affichage des statistiques par mode\n",
    "print(\"Statistiques par mode d'ionisation:\")\n",
    "print(f\"Nombre de composés en mode positif : {len(norman_positive)}\")\n",
    "print(f\"Nombre de composés en mode négatif : {len(norman_negative)}\")\n",
    "\n",
    "# Sauvegarde au format HDF5\n",
    "norman_positive.to_hdf(\"norman_all_ccs_pos_neg.h5\", key=\"positive\")\n",
    "norman_negative.to_hdf(\"norman_all_ccs_pos_neg.h5\", key=\"negative\")\n"
   ]
  }
 ],
 "metadata": {
  "kernelspec": {
   "display_name": "Python 3 (ipykernel)",
   "language": "python",
   "name": "python3"
  },
  "language_info": {
   "codemirror_mode": {
    "name": "ipython",
    "version": 3
   },
   "file_extension": ".py",
   "mimetype": "text/x-python",
   "name": "python",
   "nbconvert_exporter": "python",
   "pygments_lexer": "ipython3",
   "version": "3.10.8"
  },
  "toc": {
   "base_numbering": 1,
   "nav_menu": {},
   "number_sections": true,
   "sideBar": true,
   "skip_h1_title": false,
   "title_cell": "Table of Contents",
   "title_sidebar": "Contents",
   "toc_cell": false,
   "toc_position": {},
   "toc_section_display": true,
   "toc_window_display": false
  }
 },
 "nbformat": 4,
 "nbformat_minor": 5
}
